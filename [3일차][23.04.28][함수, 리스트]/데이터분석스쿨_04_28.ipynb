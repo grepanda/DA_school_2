{
  "nbformat": 4,
  "nbformat_minor": 0,
  "metadata": {
    "colab": {
      "provenance": []
    },
    "kernelspec": {
      "name": "python3",
      "display_name": "Python 3"
    },
    "language_info": {
      "name": "python"
    }
  },
  "cells": [
    {
      "cell_type": "markdown",
      "source": [
        "# 함수"
      ],
      "metadata": {
        "id": "Cb1CMx8yUzB6"
      }
    },
    {
      "cell_type": "code",
      "source": [
        "def 부지매입():\n",
        "    pass\n",
        "\n",
        "def 설계도면작성():\n",
        "    pass\n",
        "\n",
        "def 인력모집():\n",
        "    pass\n",
        "\n",
        "def 벽돌쌓기():\n",
        "    pass\n",
        "\n",
        "def 지붕올리기():\n",
        "    pass\n",
        "\n",
        "부지매입()\n",
        "설계도면작성()\n",
        "인력모집()\n",
        "벽돌쌓기()\n",
        "지붕올리기()"
      ],
      "metadata": {
        "id": "sOXPmuzZU0vU"
      },
      "execution_count": null,
      "outputs": []
    },
    {
      "cell_type": "code",
      "source": [
        "# 파선아실 # 파라미터는 선언할 때, 아규먼트는 실행할 때\n",
        "# function은 변수 / x,y는 파라미터 / 5,7 값은 아규먼트\n",
        "\n",
        "def function(x,y):\n",
        "    z = x + y\n",
        "    return z\n",
        "print(\"function(5,7) = \", function(5,7))"
      ],
      "metadata": {
        "colab": {
          "base_uri": "https://localhost:8080/"
        },
        "id": "meJqmJyZVLXq",
        "outputId": "8ae9216b-5375-468a-ff70-20ad463d7310"
      },
      "execution_count": null,
      "outputs": [
        {
          "output_type": "stream",
          "name": "stdout",
          "text": [
            "function(5,7) =  12\n"
          ]
        }
      ]
    },
    {
      "cell_type": "code",
      "source": [
        "# 위 코드와 같은 코드1\n",
        "\n",
        "def function(x, y):\n",
        "    z = x + y\n",
        "    return z\n",
        "print(f'function(5, 7) = {function(5, 7)}')"
      ],
      "metadata": {
        "colab": {
          "base_uri": "https://localhost:8080/"
        },
        "id": "UW40Dk84YVuL",
        "outputId": "52fea68c-be72-4830-9894-97bfd4598bdb"
      },
      "execution_count": null,
      "outputs": [
        {
          "output_type": "stream",
          "name": "stdout",
          "text": [
            "function(5, 7) = 12\n"
          ]
        }
      ]
    },
    {
      "cell_type": "code",
      "source": [
        "def function(x, y):\n",
        "    z = x + y\n",
        "    return None\n",
        "\n",
        "print(f'function(5, 7) = {function(5, 7)}')"
      ],
      "metadata": {
        "colab": {
          "base_uri": "https://localhost:8080/"
        },
        "id": "aVgypAjyYc0Q",
        "outputId": "9f5547d3-a06a-43a1-c464-9911d85d2e3e"
      },
      "execution_count": null,
      "outputs": [
        {
          "output_type": "stream",
          "name": "stdout",
          "text": [
            "function(5, 7) = None\n"
          ]
        }
      ]
    },
    {
      "cell_type": "code",
      "source": [
        "# 전혀 다른 코드\n",
        "# print와 return은 다릅니다!\n",
        "\n",
        "def function(x, y):\n",
        "    z = x + y\n",
        "    print(None)\n",
        "    # return None가 생략되어 있음.\n",
        "\n",
        "print(f'function(5, 7) = {function(5, 7)}')\n",
        "# return None이 함수 마지막에 생략되어 있다. (작성을 안 했기 때문에)\n",
        "# 그래서 아래 결과를 출력하면 12가 출력되는 것이 아니라 None이 출력된다.\n",
        "# return은 함수가 있던 자리 즉, fuction(5,7)에 값을 넣어주는 것이고\n",
        "# print는 그냥 중간에 출력해주는 것 뿐이고 return과는 관련이 없다."
      ],
      "metadata": {
        "colab": {
          "base_uri": "https://localhost:8080/"
        },
        "id": "7GwJ-6JWYifW",
        "outputId": "ce26db12-7624-4216-949c-a2fc43be0c47"
      },
      "execution_count": null,
      "outputs": [
        {
          "output_type": "stream",
          "name": "stdout",
          "text": [
            "12\n",
            "function(5, 7) = None\n"
          ]
        }
      ]
    },
    {
      "cell_type": "code",
      "source": [
        "def function():\n",
        "    print('hello')\n",
        "    print('hello')\n",
        "    print('hello')\n",
        "    print('hello')\n",
        "\n",
        "function()\n",
        "print(function()) # 마지막에 None이 들어감"
      ],
      "metadata": {
        "colab": {
          "base_uri": "https://localhost:8080/"
        },
        "id": "kk5nkKCxZH45",
        "outputId": "4b3746f1-da02-414f-9edb-9c0545f074b4"
      },
      "execution_count": null,
      "outputs": [
        {
          "output_type": "stream",
          "name": "stdout",
          "text": [
            "hello\n",
            "hello\n",
            "hello\n",
            "hello\n",
            "hello\n",
            "hello\n",
            "hello\n",
            "hello\n",
            "None\n"
          ]
        }
      ]
    },
    {
      "cell_type": "code",
      "source": [
        "def function(x, y):\n",
        "    print('hello')\n",
        "    print('hello')\n",
        "    print('hello')\n",
        "    print('hello')\n",
        "    return x + y\n",
        "\n",
        "x = function(1, 1)\n",
        "print(x + x)"
      ],
      "metadata": {
        "colab": {
          "base_uri": "https://localhost:8080/"
        },
        "id": "AAcUO2sCbPLm",
        "outputId": "b269c5d7-6391-4c01-836b-e3df525bfe3f"
      },
      "execution_count": null,
      "outputs": [
        {
          "output_type": "stream",
          "name": "stdout",
          "text": [
            "hello\n",
            "hello\n",
            "hello\n",
            "hello\n",
            "4\n"
          ]
        }
      ]
    },
    {
      "cell_type": "code",
      "source": [
        "# 함수 안에 있는 변수나 함수는 함수가 끝나면 휘발됩니다. 메모리에서 사라져요.\n",
        "\n",
        "def f2(x, y):\n",
        "    def f1(x):\n",
        "      print('world1')\n",
        "      return x + x\n",
        "    print('hello1')\n",
        "    z = f1(10)\n",
        "    return x + y + z\n",
        "\n",
        "\n",
        "# a = f1(1) # 함수 안에 이쓴 함수는 밖에서 호출할 수 없습니다.\n",
        "b = f2(3, 4)\n",
        "print(b)\n",
        "\n",
        "# print(z) # 함수가 끝났기 때문에 x, y, z에 접근할 수 없습니다."
      ],
      "metadata": {
        "colab": {
          "base_uri": "https://localhost:8080/"
        },
        "id": "XcnsfYhHeLn5",
        "outputId": "b9d2c8ac-3306-4457-af2f-dc831e7b94a5"
      },
      "execution_count": null,
      "outputs": [
        {
          "output_type": "stream",
          "name": "stdout",
          "text": [
            "hello1\n",
            "world1\n",
            "27\n"
          ]
        }
      ]
    },
    {
      "cell_type": "code",
      "source": [
        "# 1\n",
        "# 밖에 주어진 x = 100의 x와 함수 plusX의 파라미터 x는 서로 다른 x로 다른 공간에서 정의된다.\n",
        "# 따라서 함수의 x는 휘발되므로 plusX(10)에서 사용되어 110을 반환하고 사라진다.\n",
        "\n",
        "x = 100\n",
        "def plusX(x):\n",
        "  x = x + 100\n",
        "  return x\n",
        "\n",
        "print(plusX(10))"
      ],
      "metadata": {
        "colab": {
          "base_uri": "https://localhost:8080/"
        },
        "id": "dMhZzydlinvg",
        "outputId": "e92eab52-2fbd-4b3f-87e6-78528dc3c82c"
      },
      "execution_count": null,
      "outputs": [
        {
          "output_type": "stream",
          "name": "stdout",
          "text": [
            "110\n"
          ]
        }
      ]
    },
    {
      "cell_type": "code",
      "source": [
        "# 2\n",
        "x = 100\n",
        "def plusX(z):\n",
        "  z = z + x\n",
        "  return z\n",
        "\n",
        "print(plusX(10))"
      ],
      "metadata": {
        "id": "vmWg9tJLjPmj"
      },
      "execution_count": null,
      "outputs": []
    },
    {
      "cell_type": "code",
      "source": [
        "# 3\n",
        "# 문제가 생기는 코드\n",
        "\n",
        "x = 100\n",
        "def plusX(z):\n",
        "  x = z + x     # 함수에서는 외부에 있는 변수를 읽어올 순 있지만, 수정할 수는 없다.\n",
        "  return z      # 따라서 x = 으로 정의를 내리고 시작하면, 수정하는 것이기 때문에 오류 발생.\n",
        "\n",
        "print(plusX(10))"
      ],
      "metadata": {
        "id": "G8LXFN1nmTcs"
      },
      "execution_count": null,
      "outputs": []
    },
    {
      "cell_type": "code",
      "source": [
        "# 4\n",
        "# 변수를 외부에서 가져와 수정할 수 있는 방법\n",
        "# global : 지역변수를 전역변수로 만드는 방법\n",
        "\n",
        "x = 100\n",
        "def plusX(z):\n",
        "  global x      # 권하지 않습니다. 사용하지 않기를 바랍니다.\n",
        "  z = z + x     # 이유는 전역변수가 지역으로 끌려와서 공동작업을 할 때 혼동이 발생할 수 있다.\n",
        "  return z      # 추가로 global로 지역변수를 전역변수로 만들 수 있다.\n",
        "\n",
        "print(plusX(10))"
      ],
      "metadata": {
        "id": "bFLeDDOInFgR"
      },
      "execution_count": null,
      "outputs": []
    },
    {
      "cell_type": "code",
      "source": [
        "# 5\n",
        "# 아래와 같이 지역변수를 이용한다는 것을 알려줘야 다른 사람들도 사용할 수 있다.\n",
        "\n",
        "x = 100\n",
        "def plusX(x):\n",
        "    return x + 10\n",
        "\n",
        "x = plusX(x)"
      ],
      "metadata": {
        "id": "cJtHRwasnu7A"
      },
      "execution_count": null,
      "outputs": []
    },
    {
      "cell_type": "code",
      "source": [
        "x = 100\n",
        "def plusX(z):\n",
        "  # v가 x를 가리키게 되었기 때문에 수정할 수 있는 권한이 들어오지 않았을까?\n",
        "  # No\n",
        "  v = x\n",
        "  x = z + x\n",
        "  return z\n",
        "\n",
        "plusX(10)"
      ],
      "metadata": {
        "id": "mMPxXi5Np-wj"
      },
      "execution_count": null,
      "outputs": []
    },
    {
      "cell_type": "code",
      "source": [
        "# 현재 print는 지역변수라 외부의 print는 기존의 기능을 가짐\n",
        "\n",
        "def changePrint():\n",
        "  print = 100\n",
        "  return print\n",
        "\n",
        "changePrint()"
      ],
      "metadata": {
        "colab": {
          "base_uri": "https://localhost:8080/"
        },
        "id": "LtRfe-k8qB9P",
        "outputId": "db408187-746c-4a7a-b190-53eed23e22ec"
      },
      "execution_count": null,
      "outputs": [
        {
          "output_type": "execute_result",
          "data": {
            "text/plain": [
              "100"
            ]
          },
          "metadata": {},
          "execution_count": 31
        }
      ]
    },
    {
      "cell_type": "code",
      "source": [
        "# print = 100 # 전역변수 print를 실행하면 기존의 print 기능을 잃어 사용할 수 없게 됨.\n",
        "# print"
      ],
      "metadata": {
        "colab": {
          "base_uri": "https://localhost:8080/"
        },
        "id": "8WfYraL0qD3n",
        "outputId": "5b9c2474-d145-412c-b9f4-3eff92216a53"
      },
      "execution_count": null,
      "outputs": [
        {
          "output_type": "execute_result",
          "data": {
            "text/plain": [
              "100"
            ]
          },
          "metadata": {},
          "execution_count": 32
        }
      ]
    },
    {
      "cell_type": "markdown",
      "source": [
        "## 재귀함수"
      ],
      "metadata": {
        "id": "nlkbKxWZq6YE"
      }
    },
    {
      "cell_type": "code",
      "source": [
        "# 효울이 매우 좋지 않다. 다만, 메모라이징 기법을 사용하면 좋다.\n",
        "# 그러나 대부분의 코드는 for로 대체할 수 있다.\n",
        "# 다이나믹 프로그래밍 등 재귀함수가 필수적으로 사용되는 곳이 있기도 하다.\n",
        "# 즉, 재귀함수보다는 for을 사용하는게 좋다.\n",
        "# 아마 데이터 분석가는 재귀함수를 거의 사용하지 않는 것 같다."
      ],
      "metadata": {
        "id": "k2oh9sWJq73k"
      },
      "execution_count": null,
      "outputs": []
    },
    {
      "cell_type": "code",
      "source": [
        "#sys.setrecursionlimit -> 제한을 늘릴 수 있음\n",
        "# def 숫자출력():\n",
        "#     print(1)\n",
        "#     return 숫자출력()\n",
        "# 숫자출력()\n",
        "\n",
        "# 실행시키면 무한지옥에 빠지니 실행시키지 말 것."
      ],
      "metadata": {
        "id": "8qjk1X6zrv43"
      },
      "execution_count": null,
      "outputs": []
    },
    {
      "cell_type": "code",
      "source": [
        "# 팩토리얼 재귀함수\n",
        "# 이정도는 기억하면 좋음.\n",
        "\n",
        "def factorial(n):\n",
        "    if n == 1:\n",
        "      return n\n",
        "    return n * factorial(n-1)\n",
        "\n",
        "factorial(5)\n",
        "\n",
        "#                      return 값\n",
        "# factorial(5) == 5 * factorial(4) == 5 * 24 == 120\n",
        "# factorial(4) == 4 * factorial(3) == 4 * 6 == 24\n",
        "# factorial(3) == 3 * factorial(2) == 3 * 2 == 6\n",
        "# factorial(2) == 2 * factorial(1) == 2 * 1 == 2\n",
        "# factorial(1) == 1\n",
        "\n",
        "# 순서가 return 값을 받아서 factorial(1) == 1을 최종적으로 구한 다음에 위 식에 다시\n",
        "# 2, 6, 24, 120 값을 차례대로 계산하여 출력하기 때문에 아래로 내려갔다 위로 다시 올라가는\n",
        "# 긴 여정 때문에 메모리가 매우 많이 소모된다. 그래서 잘 사용하지 않는다."
      ],
      "metadata": {
        "colab": {
          "base_uri": "https://localhost:8080/"
        },
        "id": "lLcAe3IQsIau",
        "outputId": "155f0f56-ade3-4187-e709-f4ed9a7b736d"
      },
      "execution_count": null,
      "outputs": [
        {
          "output_type": "execute_result",
          "data": {
            "text/plain": [
              "120"
            ]
          },
          "metadata": {},
          "execution_count": 39
        }
      ]
    },
    {
      "cell_type": "code",
      "source": [
        "result = 1\n",
        "for i in range(1, 6):\n",
        "    result *= i\n",
        "\n",
        "result"
      ],
      "metadata": {
        "colab": {
          "base_uri": "https://localhost:8080/"
        },
        "id": "8selcwimt01i",
        "outputId": "16a9cbd3-8348-4e60-d3e1-3d9916d9eb04"
      },
      "execution_count": null,
      "outputs": [
        {
          "output_type": "execute_result",
          "data": {
            "text/plain": [
              "120"
            ]
          },
          "metadata": {},
          "execution_count": 40
        }
      ]
    },
    {
      "cell_type": "code",
      "source": [
        "def string_reverse(s):\n",
        "    if len(s) == 1:     # 얼리리턴(코드가 매우 길면 가능하면 앞에서 리턴하는 것이 효율적)\n",
        "        return s\n",
        "    return string_reverse(s[1:]) + s[0]\n",
        "\n",
        "string_reverse('hello')\n",
        "\n",
        "# string_reverse('hello') == string_reverse('ello') + 'h'   == 'olle' + 'h' == 'ollleh'\n",
        "# string_reverse('ello') == string_reverse('llo') + 'e'     == 'oll' + 'e' == 'ollle'\n",
        "# string_reverse('llo') == string_reverse('lo') + 'l'       == 'ol' + 'l' == 'oll'\n",
        "# string_reverse('lo') == string_reverse('o') + 'l'         == 'o' + 'l' == 'ol'\n",
        "# string_reverse('o') == 'o'\n",
        "\n",
        "# 이 상황에서 다시 반대 순서로 돌아가면서 string_reverse('o') == 'o'를 위에 대입하면서\n",
        "# 글자의 순서가 반대로 입력된다."
      ],
      "metadata": {
        "colab": {
          "base_uri": "https://localhost:8080/",
          "height": 35
        },
        "id": "OYgs-BWkv2aj",
        "outputId": "ee6f1b53-fbba-40a3-fe89-53a915a5ecee"
      },
      "execution_count": null,
      "outputs": [
        {
          "output_type": "execute_result",
          "data": {
            "text/plain": [
              "'olleh'"
            ],
            "application/vnd.google.colaboratory.intrinsic+json": {
              "type": "string"
            }
          },
          "metadata": {},
          "execution_count": 65
        }
      ]
    },
    {
      "cell_type": "code",
      "source": [
        "s = 'leehojun'\n",
        "result1 = ''\n",
        "result2 = ''\n",
        "\n",
        "for i in s:\n",
        "    result1 = i + result1\n",
        "    result2 = result2 + i     # 순서에 따라 출력되는 결과으 순서가 달라진다.\n",
        "\n",
        "result1, result2"
      ],
      "metadata": {
        "colab": {
          "base_uri": "https://localhost:8080/"
        },
        "id": "CoQ2iRyNt9cs",
        "outputId": "ae6f2084-eea3-48c3-a106-aa2272992fe0"
      },
      "execution_count": null,
      "outputs": [
        {
          "output_type": "execute_result",
          "data": {
            "text/plain": [
              "('nujoheel', 'leehojun')"
            ]
          },
          "metadata": {},
          "execution_count": 62
        }
      ]
    },
    {
      "cell_type": "code",
      "source": [
        "s = 'leehojun'\n",
        "result = ''\n",
        "for i in s:\n",
        "    print('----------')\n",
        "    print(i)\n",
        "    print(f'연산 전 result : {result}')\n",
        "    result = i + result\n",
        "    print(f'연산 후 result : {result}')\n",
        "\n",
        "result"
      ],
      "metadata": {
        "id": "yEDvLSs5vya6"
      },
      "execution_count": null,
      "outputs": []
    },
    {
      "cell_type": "code",
      "source": [
        "# 재귀가 얼마나 비효율적인지 보여주는 사례\n",
        "\n",
        "def fib(num):\n",
        "    if num == 0:\n",
        "        return 0\n",
        "    if num == 1 or num == 2:\n",
        "        return 1\n",
        "    else:\n",
        "        return fib(num-1) + fib(num-2)\n",
        "\n",
        "fib(35)"
      ],
      "metadata": {
        "colab": {
          "base_uri": "https://localhost:8080/"
        },
        "id": "WXtsgfvBFCdO",
        "outputId": "caa9f8ef-d7cd-40da-f087-1927d132ecb7"
      },
      "execution_count": null,
      "outputs": [
        {
          "output_type": "execute_result",
          "data": {
            "text/plain": [
              "9227465"
            ]
          },
          "metadata": {},
          "execution_count": 66
        }
      ]
    },
    {
      "cell_type": "code",
      "source": [
        "from functools import lru_cache\n",
        "\n",
        "@lru_cache(maxsize=None)\n",
        "def fib(num):\n",
        "    if num == 0:\n",
        "        return 0\n",
        "    if num == 1 or num == 2:\n",
        "        return 1\n",
        "    else:\n",
        "        return fib(num-1) + fib(num-2)\n",
        "\n",
        "fib(40)"
      ],
      "metadata": {
        "colab": {
          "base_uri": "https://localhost:8080/"
        },
        "id": "6jQQG0c-FGNF",
        "outputId": "9522aac2-1d64-43f0-a4d5-6d6364b079be"
      },
      "execution_count": null,
      "outputs": [
        {
          "output_type": "execute_result",
          "data": {
            "text/plain": [
              "102334155"
            ]
          },
          "metadata": {},
          "execution_count": 67
        }
      ]
    },
    {
      "cell_type": "markdown",
      "source": [
        "## 연습문제"
      ],
      "metadata": {
        "id": "jvPb-dHmFebJ"
      }
    },
    {
      "cell_type": "code",
      "source": [
        "# 1\n",
        "I\n",
        "love\n",
        "python\n",
        "\n",
        "# 2\n",
        "def plus(num1, num2):\n",
        "    return num1 + num2\n",
        "\n",
        "def minus(num1, num2):\n",
        "    return num1 - num2\n",
        "\n",
        "def multiply(num1, num2):\n",
        "    return num1 * num2\n",
        "\n",
        "def divide(num1, num2):\n",
        "    return num1 / num2\n",
        "\n",
        "print('plus : ',plus(10,5))\n",
        "print('minus : ',minus(10,5))\n",
        "print('multiply : ',multiply(10,5))\n",
        "print('divide : ',divide(10,5))\n",
        "\n",
        "# 3\n",
        "x의 n제곱을 구하는 함수를 만들어주세요.\n",
        "재귀함수를 이용하여 만들어야하며, x는 0이 아닙니다.\n",
        "\n",
        "y = 1\n",
        "def xn(x, n):\n",
        "    x = x * x\n",
        "    if n != 1:\n",
        "        xn(x, n-1)\n",
        "    else:\n",
        "        return x\n"
      ],
      "metadata": {
        "id": "nf8T2DLyGThT"
      },
      "execution_count": null,
      "outputs": []
    },
    {
      "cell_type": "code",
      "source": [
        "def plus(num1, num2):\n",
        "    try:\n",
        "        result = int(num1) + int(num2)\n",
        "        return result\n",
        "    except:\n",
        "        return '연산할 수 없습니다.'\n",
        "\n",
        "print(f'plus : {plus(10, 5)}')\n",
        "print(f'plus : {plus(\"10\", \"5\")}')\n",
        "print(f'plus : {plus(\"10\", 5)}')\n",
        "print(f'plus : {plus(10, \"5\")}')\n",
        "print(f'plus : {plus(\"abc\", 5)}')\n",
        "print(f'plus : {plus(10, \"abc\")}')"
      ],
      "metadata": {
        "colab": {
          "base_uri": "https://localhost:8080/"
        },
        "id": "zPZaOtV8LFkz",
        "outputId": "41299b48-a513-4180-889f-d399ee3625f6"
      },
      "execution_count": 75,
      "outputs": [
        {
          "output_type": "stream",
          "name": "stdout",
          "text": [
            "plus : 15\n",
            "plus : 15\n",
            "plus : 15\n",
            "plus : 15\n",
            "plus : 연산할 수 없습니다.\n",
            "plus : 연산할 수 없습니다.\n"
          ]
        }
      ]
    },
    {
      "cell_type": "code",
      "source": [
        "def plus(num1, num2):\n",
        "    try:\n",
        "        result = int(num1) + int(num2)\n",
        "        return result\n",
        "    except:\n",
        "        return float(\"inf\")\n",
        "\n",
        "print(f'plus : {plus(10, 5)}')\n",
        "print(f'plus : {plus(\"10\", \"5\")}')\n",
        "print(f'plus : {plus(\"10\", 5)}')\n",
        "print(f'plus : {plus(10, \"5\")}')\n",
        "print(f'plus : {plus(\"abc\", 5)}')\n",
        "print(f'plus : {plus(10, \"abc\")}')"
      ],
      "metadata": {
        "colab": {
          "base_uri": "https://localhost:8080/"
        },
        "id": "RDPAAabgLVv0",
        "outputId": "e4ab177e-7f71-42e6-fe52-95a2149c41a1"
      },
      "execution_count": 77,
      "outputs": [
        {
          "output_type": "stream",
          "name": "stdout",
          "text": [
            "plus : 15\n",
            "plus : 15\n",
            "plus : 15\n",
            "plus : 15\n",
            "plus : inf\n",
            "plus : inf\n"
          ]
        }
      ]
    },
    {
      "cell_type": "code",
      "source": [
        "float(\"inf\") > 1000000000000000000000   # float('inf')는 모든 수보다 크다."
      ],
      "metadata": {
        "colab": {
          "base_uri": "https://localhost:8080/"
        },
        "id": "MEK9KSlELZ-T",
        "outputId": "f15d2b5d-5d08-4018-eb15-44fb4bc98154"
      },
      "execution_count": 76,
      "outputs": [
        {
          "output_type": "execute_result",
          "data": {
            "text/plain": [
              "True"
            ]
          },
          "metadata": {},
          "execution_count": 76
        }
      ]
    },
    {
      "cell_type": "code",
      "source": [
        "plus = lambda x, y: x + y\n",
        "minus = lambda x, y: x - y\n",
        "multiply = lambda x, y: x * y\n",
        "divide = lambda x, y: x / y\n",
        "\n",
        "print(f'plus : {plus(10, 5)}')\n",
        "print(f'minus : {minus(10, 5)}')\n",
        "print(f'multiply : {multiply(10, 5)}')\n",
        "print(f'divide : {divide(10, 5)}')"
      ],
      "metadata": {
        "colab": {
          "base_uri": "https://localhost:8080/"
        },
        "id": "_vSQtFZEMAgR",
        "outputId": "d6c64469-8d19-4208-9484-9a5cb9721984"
      },
      "execution_count": 80,
      "outputs": [
        {
          "output_type": "stream",
          "name": "stdout",
          "text": [
            "plus : 15\n",
            "minus : 5\n",
            "multiply : 50\n",
            "divide : 2.0\n"
          ]
        }
      ]
    },
    {
      "cell_type": "code",
      "source": [
        "def 제곱(x,n):\n",
        "    if n == 0:\n",
        "        return 1\n",
        "    return x * 제곱(x,n-1)\n",
        "\n",
        "제곱(2,3)"
      ],
      "metadata": {
        "colab": {
          "base_uri": "https://localhost:8080/"
        },
        "id": "xUoAj6MFRFds",
        "outputId": "a4d55166-ca46-4c35-b2ee-6c8d3ea3f74f"
      },
      "execution_count": 114,
      "outputs": [
        {
          "output_type": "execute_result",
          "data": {
            "text/plain": [
              "8"
            ]
          },
          "metadata": {},
          "execution_count": 114
        }
      ]
    },
    {
      "cell_type": "code",
      "source": [
        "# factory 함수\n",
        "# 클로저\n",
        "\n",
        "def factory(x):\n",
        "    def 승수(n):\n",
        "        return x ** n       # 휘발됐어야 할 x의 값이 살아있다.\n",
        "    return 승수             # 함수의 이름을 불러올 수 있다.\n",
        "\n",
        "제곱3 = factory(3)\n",
        "\n",
        "# 실제 제곱3는 아래와 같습니다.\n",
        "\n",
        "# def 승수(n):\n",
        "#        return 3 ** n\n",
        "\n",
        "제곱4 = factory(4)\n",
        "\n",
        "제곱3(2)\n",
        "제곱3(3)\n",
        "제곱4(2)\n",
        "제곱4(3)"
      ],
      "metadata": {
        "colab": {
          "base_uri": "https://localhost:8080/"
        },
        "id": "yTU6ja7-I0Ta",
        "outputId": "b4068bbd-65fa-46d2-9a58-d99f1f6e13d8"
      },
      "execution_count": 110,
      "outputs": [
        {
          "output_type": "execute_result",
          "data": {
            "text/plain": [
              "64"
            ]
          },
          "metadata": {},
          "execution_count": 110
        }
      ]
    },
    {
      "cell_type": "markdown",
      "source": [
        "## 리스트\n",
        "\n",
        "* 순서가 있는 데이터입니다.\n",
        "* 값의 수정이 가능합니다."
      ],
      "metadata": {
        "id": "gcneHqQ8SmC_"
      }
    },
    {
      "cell_type": "code",
      "source": [
        "ㅣ = [10, 20, 30, 40]"
      ],
      "metadata": {
        "id": "QsQYjXp0SxHu"
      },
      "execution_count": 115,
      "outputs": []
    },
    {
      "cell_type": "code",
      "source": [
        "ㅣ[0]"
      ],
      "metadata": {
        "colab": {
          "base_uri": "https://localhost:8080/"
        },
        "id": "6HByleTxTJ1t",
        "outputId": "b726401d-4fa9-47b2-cb1f-9db3d79e2df9"
      },
      "execution_count": 116,
      "outputs": [
        {
          "output_type": "execute_result",
          "data": {
            "text/plain": [
              "10"
            ]
          },
          "metadata": {},
          "execution_count": 116
        }
      ]
    },
    {
      "cell_type": "code",
      "source": [
        "ㅣ[0] = 1000\n",
        "ㅣ # mutable한 객체{수정이 가능한 객체} <-> immutable한 객체(문자열){수정이 불가능한 객체}"
      ],
      "metadata": {
        "colab": {
          "base_uri": "https://localhost:8080/"
        },
        "id": "olo1l0ehTQMZ",
        "outputId": "139bec62-66a6-4639-bd09-2d0a2867265f"
      },
      "execution_count": 117,
      "outputs": [
        {
          "output_type": "execute_result",
          "data": {
            "text/plain": [
              "[1000, 20, 30, 40]"
            ]
          },
          "metadata": {},
          "execution_count": 117
        }
      ]
    },
    {
      "cell_type": "code",
      "source": [
        "s = 'hello'\n",
        "s[0] = 'k' # error! immutable한 객체"
      ],
      "metadata": {
        "colab": {
          "base_uri": "https://localhost:8080/",
          "height": 193
        },
        "id": "JZQaGNswTptF",
        "outputId": "faf7b2ad-8dde-499d-f3c3-edf5fe671a62"
      },
      "execution_count": 118,
      "outputs": [
        {
          "output_type": "error",
          "ename": "TypeError",
          "evalue": "ignored",
          "traceback": [
            "\u001b[0;31m---------------------------------------------------------------------------\u001b[0m",
            "\u001b[0;31mTypeError\u001b[0m                                 Traceback (most recent call last)",
            "\u001b[0;32m<ipython-input-118-d1c751d26485>\u001b[0m in \u001b[0;36m<cell line: 2>\u001b[0;34m()\u001b[0m\n\u001b[1;32m      1\u001b[0m \u001b[0ms\u001b[0m \u001b[0;34m=\u001b[0m \u001b[0;34m'hello'\u001b[0m\u001b[0;34m\u001b[0m\u001b[0;34m\u001b[0m\u001b[0m\n\u001b[0;32m----> 2\u001b[0;31m \u001b[0ms\u001b[0m\u001b[0;34m[\u001b[0m\u001b[0;36m0\u001b[0m\u001b[0;34m]\u001b[0m \u001b[0;34m=\u001b[0m \u001b[0;34m'k'\u001b[0m \u001b[0;31m# error! immutable한 객체\u001b[0m\u001b[0;34m\u001b[0m\u001b[0;34m\u001b[0m\u001b[0m\n\u001b[0m",
            "\u001b[0;31mTypeError\u001b[0m: 'str' object does not support item assignment"
          ]
        }
      ]
    },
    {
      "cell_type": "code",
      "source": [
        "data = [[1,2,3],\n",
        "        [4,5,6],\n",
        "        [7,8,9]]    # 행렬\n",
        "\n",
        "data"
      ],
      "metadata": {
        "colab": {
          "base_uri": "https://localhost:8080/"
        },
        "id": "SghtfNQhTu6_",
        "outputId": "bd1965c4-99b2-4bcc-c492-30d0436673b0"
      },
      "execution_count": 128,
      "outputs": [
        {
          "output_type": "execute_result",
          "data": {
            "text/plain": [
              "[[1, 2, 3], [4, 5, 6], [7, 8, 9]]"
            ]
          },
          "metadata": {},
          "execution_count": 128
        }
      ]
    },
    {
      "cell_type": "code",
      "source": [
        "data[0]"
      ],
      "metadata": {
        "colab": {
          "base_uri": "https://localhost:8080/"
        },
        "id": "v7n6xmpQUT35",
        "outputId": "3ee5c863-74e5-4749-a4ec-821292f1a960"
      },
      "execution_count": 129,
      "outputs": [
        {
          "output_type": "execute_result",
          "data": {
            "text/plain": [
              "[1, 2, 3]"
            ]
          },
          "metadata": {},
          "execution_count": 129
        }
      ]
    },
    {
      "cell_type": "code",
      "source": [
        "data[0][0]"
      ],
      "metadata": {
        "colab": {
          "base_uri": "https://localhost:8080/"
        },
        "id": "2LMhdRL4UVU1",
        "outputId": "f2474cc2-12f6-4f5f-d5b3-c2e8944aed74"
      },
      "execution_count": 130,
      "outputs": [
        {
          "output_type": "execute_result",
          "data": {
            "text/plain": [
              "1"
            ]
          },
          "metadata": {},
          "execution_count": 130
        }
      ]
    },
    {
      "cell_type": "code",
      "source": [
        "data[0][0] = data[0][0] * 2\n",
        "data"
      ],
      "metadata": {
        "colab": {
          "base_uri": "https://localhost:8080/"
        },
        "id": "Q8c862_QUeD-",
        "outputId": "04750faa-34f1-4b27-a80a-f7764205e5c3"
      },
      "execution_count": 131,
      "outputs": [
        {
          "output_type": "execute_result",
          "data": {
            "text/plain": [
              "[[2, 2, 3], [4, 5, 6], [7, 8, 9]]"
            ]
          },
          "metadata": {},
          "execution_count": 131
        }
      ]
    },
    {
      "cell_type": "code",
      "source": [
        "data = [[1, 2, 3], [4, 5, 6], [7, 8, 9]]\n",
        "data[0][0] = data[0][0] * 2\n",
        "data[0][1] = data[0][1] * 2\n",
        "data[0][2] = data[0][2] * 2\n",
        "data[1][0] = data[1][0] * 2\n",
        "data[1][1] = data[1][1] * 2\n",
        "data[1][2] = data[1][2] * 2\n",
        "data[2][0] = data[2][0] * 2\n",
        "data[2][1] = data[2][1] * 2\n",
        "data[2][2] = data[2][2] * 2\n",
        "data"
      ],
      "metadata": {
        "colab": {
          "base_uri": "https://localhost:8080/"
        },
        "id": "tji3JGeLU-O8",
        "outputId": "514a7196-85e7-47b3-8dcc-cfa30f4e8870"
      },
      "execution_count": 133,
      "outputs": [
        {
          "output_type": "execute_result",
          "data": {
            "text/plain": [
              "[[2, 4, 6], [8, 10, 12], [14, 16, 18]]"
            ]
          },
          "metadata": {},
          "execution_count": 133
        }
      ]
    },
    {
      "cell_type": "code",
      "source": [
        "data = [[1, 2, 3], [4, 5, 6], [7, 8, 9]]\n",
        "\n",
        "for i in range(3):\n",
        "    data[i][0] = data[i][0] * 2\n",
        "    data[i][1] = data[i][1] * 2\n",
        "    data[i][2] = data[i][2] * 2\n",
        "data"
      ],
      "metadata": {
        "colab": {
          "base_uri": "https://localhost:8080/"
        },
        "id": "-bRJQGFRV2I_",
        "outputId": "e44fba93-3c99-4792-f2f1-3ba4f2da4dde"
      },
      "execution_count": 134,
      "outputs": [
        {
          "output_type": "execute_result",
          "data": {
            "text/plain": [
              "[[2, 4, 6], [8, 10, 12], [14, 16, 18]]"
            ]
          },
          "metadata": {},
          "execution_count": 134
        }
      ]
    },
    {
      "cell_type": "code",
      "source": [
        "for i in range(len(data)):\n",
        "    for j in range(len(data[1])):\n",
        "        data[i][j] *= 2\n",
        "\n",
        "data"
      ],
      "metadata": {
        "colab": {
          "base_uri": "https://localhost:8080/"
        },
        "id": "7MAAuQwjT9wV",
        "outputId": "b0b1b0d2-0150-4b7b-c6cb-3531ec2e7345"
      },
      "execution_count": 122,
      "outputs": [
        {
          "output_type": "execute_result",
          "data": {
            "text/plain": [
              "[[2, 4, 6], [8, 10, 12], [14, 16, 18]]"
            ]
          },
          "metadata": {},
          "execution_count": 122
        }
      ]
    },
    {
      "cell_type": "code",
      "source": [
        "#data[start:stop:step]\n",
        "data = [10, 20, 30, 40, 50, 60, 70]\n",
        "data[1:]\n",
        "data[1:-1]\n",
        "data[::2]   # 모자이크의 원리, step은 실무에서 잘 사용히지는 않음\n",
        "data[:] # 매우 중요!!, 전체 선택, 전체선택이지만, 원본하고 다른 값이 된다!!"
      ],
      "metadata": {
        "colab": {
          "base_uri": "https://localhost:8080/"
        },
        "id": "BgDXabnbV7ct",
        "outputId": "fd44b0d3-e91c-40bb-b9b9-ba7173e5f0e9"
      },
      "execution_count": 135,
      "outputs": [
        {
          "output_type": "execute_result",
          "data": {
            "text/plain": [
              "[10, 30, 50, 70]"
            ]
          },
          "metadata": {},
          "execution_count": 135
        }
      ]
    },
    {
      "cell_type": "code",
      "source": [
        "# data2와 data는 다른 값이 된다. 원본을 남기고 수정 가능!!\n",
        "\n",
        "data = [10, 20, 30, 40, 50, 60, 70]\n",
        "data2 = data[:]\n",
        "data2[0] = 100\n",
        "data2, data"
      ],
      "metadata": {
        "colab": {
          "base_uri": "https://localhost:8080/"
        },
        "id": "QVBUhdU0Xms_",
        "outputId": "b4f5a803-d8c2-475b-9827-b8b402892b9c"
      },
      "execution_count": 136,
      "outputs": [
        {
          "output_type": "execute_result",
          "data": {
            "text/plain": [
              "([100, 20, 30, 40, 50, 60, 70], [10, 20, 30, 40, 50, 60, 70])"
            ]
          },
          "metadata": {},
          "execution_count": 136
        }
      ]
    },
    {
      "cell_type": "markdown",
      "source": [
        "### 리스트의 사칙연산"
      ],
      "metadata": {
        "id": "9QcC_lz1X_Pm"
      }
    },
    {
      "cell_type": "code",
      "source": [
        "[1,2,3] + [1,2,3]"
      ],
      "metadata": {
        "colab": {
          "base_uri": "https://localhost:8080/"
        },
        "id": "begtU3RRX5o-",
        "outputId": "0b40d5e0-196a-40a0-a42f-35125a7e036a"
      },
      "execution_count": 138,
      "outputs": [
        {
          "output_type": "execute_result",
          "data": {
            "text/plain": [
              "[1, 2, 3, 1, 2, 3]"
            ]
          },
          "metadata": {},
          "execution_count": 138
        }
      ]
    },
    {
      "cell_type": "code",
      "source": [
        "[1,2,3] * 2"
      ],
      "metadata": {
        "colab": {
          "base_uri": "https://localhost:8080/"
        },
        "id": "l6RbN3Y9X8GF",
        "outputId": "efd39937-8581-4899-b2ac-16bb33888529"
      },
      "execution_count": 139,
      "outputs": [
        {
          "output_type": "execute_result",
          "data": {
            "text/plain": [
              "[1, 2, 3, 1, 2, 3]"
            ]
          },
          "metadata": {},
          "execution_count": 139
        }
      ]
    },
    {
      "cell_type": "code",
      "source": [
        "x = [[[10]*3]*3]*4  # 이렇게 많이 만들면 메모리를 공유하게 된다.\n",
        "x"
      ],
      "metadata": {
        "colab": {
          "base_uri": "https://localhost:8080/"
        },
        "id": "WlZ1XzcFYI2c",
        "outputId": "22331aef-d865-4c5b-a03b-6ef80b633b10"
      },
      "execution_count": 141,
      "outputs": [
        {
          "output_type": "execute_result",
          "data": {
            "text/plain": [
              "[[[10, 10, 10], [10, 10, 10], [10, 10, 10]],\n",
              " [[10, 10, 10], [10, 10, 10], [10, 10, 10]],\n",
              " [[10, 10, 10], [10, 10, 10], [10, 10, 10]],\n",
              " [[10, 10, 10], [10, 10, 10], [10, 10, 10]]]"
            ]
          },
          "metadata": {},
          "execution_count": 141
        }
      ]
    },
    {
      "cell_type": "code",
      "source": [
        "x[0][0][0] = 100    # 아래와 같이 100이 전부 다 들어간다.\n",
        "x"
      ],
      "metadata": {
        "colab": {
          "base_uri": "https://localhost:8080/"
        },
        "id": "HO8lyGs0YaOH",
        "outputId": "f57d45c6-ed53-4237-b08a-06261d2d3383"
      },
      "execution_count": 143,
      "outputs": [
        {
          "output_type": "execute_result",
          "data": {
            "text/plain": [
              "[[[100, 10, 10], [100, 10, 10], [100, 10, 10]],\n",
              " [[100, 10, 10], [100, 10, 10], [100, 10, 10]],\n",
              " [[100, 10, 10], [100, 10, 10], [100, 10, 10]],\n",
              " [[100, 10, 10], [100, 10, 10], [100, 10, 10]]]"
            ]
          },
          "metadata": {},
          "execution_count": 143
        }
      ]
    },
    {
      "cell_type": "code",
      "source": [
        "id(x[0][0]), id(x[0][1])    # x[0][0]은 첫번째에 있는 3개인데 그 옆에 3개와 같은 주소를 가진다."
      ],
      "metadata": {
        "colab": {
          "base_uri": "https://localhost:8080/"
        },
        "id": "jDRmJhUBYel_",
        "outputId": "ba1d6725-dce0-4826-b603-11302af594b1"
      },
      "execution_count": 145,
      "outputs": [
        {
          "output_type": "execute_result",
          "data": {
            "text/plain": [
              "(139833405230416, 139833405230416)"
            ]
          },
          "metadata": {},
          "execution_count": 145
        }
      ]
    },
    {
      "cell_type": "code",
      "source": [
        "# 얕은 곱하기는 메모리를 복사하지 않는다.\n",
        "x = [1,2,3] * 2\n",
        "x[0] = 1000\n",
        "x"
      ],
      "metadata": {
        "colab": {
          "base_uri": "https://localhost:8080/"
        },
        "id": "3JuCbSCdY4Gw",
        "outputId": "12a058b5-e6c2-4ee0-8ed3-28458fc68dbd"
      },
      "execution_count": 146,
      "outputs": [
        {
          "output_type": "execute_result",
          "data": {
            "text/plain": [
              "[1000, 2, 3, 1, 2, 3]"
            ]
          },
          "metadata": {},
          "execution_count": 146
        }
      ]
    },
    {
      "cell_type": "code",
      "source": [
        "# 인덱스가 하나만 많아져도 메모리를 공유한다..!\n",
        "\n",
        "x = [[1,2,3]*2] * 2\n",
        "x[0][0] = 1000\n",
        "x"
      ],
      "metadata": {
        "colab": {
          "base_uri": "https://localhost:8080/"
        },
        "id": "QwFFsYG2Y-0q",
        "outputId": "d2f29f60-4648-4196-c1ad-507e87f249c0"
      },
      "execution_count": 147,
      "outputs": [
        {
          "output_type": "execute_result",
          "data": {
            "text/plain": [
              "[[1000, 2, 3, 1, 2, 3], [1000, 2, 3, 1, 2, 3]]"
            ]
          },
          "metadata": {},
          "execution_count": 147
        }
      ]
    },
    {
      "cell_type": "code",
      "source": [
        "l = [10, 20, 30, 40]\n",
        "type(l), dir(l)"
      ],
      "metadata": {
        "colab": {
          "base_uri": "https://localhost:8080/"
        },
        "id": "ko1LBEZpZNuk",
        "outputId": "65724225-9532-4135-d2d5-d78801b0663f"
      },
      "execution_count": 149,
      "outputs": [
        {
          "output_type": "execute_result",
          "data": {
            "text/plain": [
              "(list,\n",
              " ['__add__',\n",
              "  '__class__',\n",
              "  '__class_getitem__',\n",
              "  '__contains__',\n",
              "  '__delattr__',\n",
              "  '__delitem__',\n",
              "  '__dir__',\n",
              "  '__doc__',\n",
              "  '__eq__',\n",
              "  '__format__',\n",
              "  '__ge__',\n",
              "  '__getattribute__',\n",
              "  '__getitem__',\n",
              "  '__gt__',\n",
              "  '__hash__',\n",
              "  '__iadd__',\n",
              "  '__imul__',\n",
              "  '__init__',\n",
              "  '__init_subclass__',\n",
              "  '__iter__',\n",
              "  '__le__',\n",
              "  '__len__',\n",
              "  '__lt__',\n",
              "  '__mul__',\n",
              "  '__ne__',\n",
              "  '__new__',\n",
              "  '__reduce__',\n",
              "  '__reduce_ex__',\n",
              "  '__repr__',\n",
              "  '__reversed__',\n",
              "  '__rmul__',\n",
              "  '__setattr__',\n",
              "  '__setitem__',\n",
              "  '__sizeof__',\n",
              "  '__str__',\n",
              "  '__subclasshook__',\n",
              "  'append',\n",
              "  'clear',\n",
              "  'copy',\n",
              "  'count',\n",
              "  'extend',\n",
              "  'index',\n",
              "  'insert',\n",
              "  'pop',\n",
              "  'remove',\n",
              "  'reverse',\n",
              "  'sort'])"
            ]
          },
          "metadata": {},
          "execution_count": 149
        }
      ]
    },
    {
      "cell_type": "code",
      "source": [
        "# 'append','clear','copy','count','extend',\n",
        "# 'index','insert','pop','remove','reverse','sort'"
      ],
      "metadata": {
        "id": "uZ5a9qSMZaKx"
      },
      "execution_count": null,
      "outputs": []
    },
    {
      "cell_type": "code",
      "source": [
        "l = [10, 20, 30, 40]\n",
        "l.append(50)    # 50이 리스트 뒤에 추가됨.\n",
        "l"
      ],
      "metadata": {
        "colab": {
          "base_uri": "https://localhost:8080/"
        },
        "id": "z03aAVHmZg-5",
        "outputId": "840c5103-2f4d-4973-d414-b49c8615da3c"
      },
      "execution_count": 153,
      "outputs": [
        {
          "output_type": "execute_result",
          "data": {
            "text/plain": [
              "[10, 20, 30, 40, 50]"
            ]
          },
          "metadata": {},
          "execution_count": 153
        }
      ]
    },
    {
      "cell_type": "code",
      "source": [
        "l = [10, 20, 30, 40]\n",
        "l.pop()     # 맨 뒤에 있는 값을 제거함.\n",
        "l"
      ],
      "metadata": {
        "colab": {
          "base_uri": "https://localhost:8080/"
        },
        "id": "rBDALqeAZhoO",
        "outputId": "e135f593-5617-4be0-dc6f-21151a47ba0a"
      },
      "execution_count": 154,
      "outputs": [
        {
          "output_type": "execute_result",
          "data": {
            "text/plain": [
              "[10, 20, 30]"
            ]
          },
          "metadata": {},
          "execution_count": 154
        }
      ]
    },
    {
      "cell_type": "code",
      "source": [
        "l = [10, 20, 30, 40]\n",
        "l.pop(0)     # 매우 중요!!, 맨 앞에 있는 값을 제거함\n",
        "l"
      ],
      "metadata": {
        "colab": {
          "base_uri": "https://localhost:8080/"
        },
        "id": "BRO3N6XrZiaL",
        "outputId": "58531589-8032-41f8-a426-fdfaa7322d21"
      },
      "execution_count": 156,
      "outputs": [
        {
          "output_type": "execute_result",
          "data": {
            "text/plain": [
              "[20, 30, 40]"
            ]
          },
          "metadata": {},
          "execution_count": 156
        }
      ]
    },
    {
      "cell_type": "code",
      "source": [
        "l = [10, 20, 30, 40]\n",
        "l.clear()   # 모든 값 제거\n",
        "l"
      ],
      "metadata": {
        "colab": {
          "base_uri": "https://localhost:8080/"
        },
        "id": "tbDxItQoaGyf",
        "outputId": "38248794-ad35-4998-8b24-0e78f55287e8"
      },
      "execution_count": 157,
      "outputs": [
        {
          "output_type": "execute_result",
          "data": {
            "text/plain": [
              "[]"
            ]
          },
          "metadata": {},
          "execution_count": 157
        }
      ]
    },
    {
      "cell_type": "code",
      "source": [
        "# .copy(메서드)는 [:](슬라이싱)이랑 같은 표현이지만, \n",
        "# 슬라이싱은 C로 구현되어 있어 속도가 통상 8배 정도 빠르다.\n",
        "\n",
        "l = [10, 20, 30, 40]\n",
        "data = l.copy()\n",
        "data[0] = 1000\n",
        "l, data"
      ],
      "metadata": {
        "colab": {
          "base_uri": "https://localhost:8080/"
        },
        "id": "MdBIveRQaNlz",
        "outputId": "31a0a4a2-d69f-4276-ae63-6a8ffbf8ab78"
      },
      "execution_count": 162,
      "outputs": [
        {
          "output_type": "execute_result",
          "data": {
            "text/plain": [
              "([10, 20, 30, 40], [1000, 20, 30, 40])"
            ]
          },
          "metadata": {},
          "execution_count": 162
        }
      ]
    },
    {
      "cell_type": "code",
      "source": [
        "l = [10, 20, 30, 40, 10, 10, 10]\n",
        "l.count(10)"
      ],
      "metadata": {
        "colab": {
          "base_uri": "https://localhost:8080/"
        },
        "id": "MW1D0h8EdieG",
        "outputId": "20ac1fb5-3b01-443c-ce24-6cbfd90e2b74"
      },
      "execution_count": 163,
      "outputs": [
        {
          "output_type": "execute_result",
          "data": {
            "text/plain": [
              "4"
            ]
          },
          "metadata": {},
          "execution_count": 163
        }
      ]
    },
    {
      "cell_type": "code",
      "source": [
        "l = [10, 20, 30, 40, 10, 10, 10]\n",
        "l.extend([1,2,3,4,5])           # value로써 리스트에 추가됨.\n",
        "l"
      ],
      "metadata": {
        "colab": {
          "base_uri": "https://localhost:8080/"
        },
        "id": "_gjDOzm_dmPo",
        "outputId": "4442962d-2999-457d-b0bb-6e0a69f00138"
      },
      "execution_count": 166,
      "outputs": [
        {
          "output_type": "execute_result",
          "data": {
            "text/plain": [
              "[10, 20, 30, 40, 10, 10, 10, 1, 2, 3, 4, 5]"
            ]
          },
          "metadata": {},
          "execution_count": 166
        }
      ]
    },
    {
      "cell_type": "code",
      "source": [
        "l = [10, 20, 30, 40, 10, 10, 10]\n",
        "l.append([1,2,3,4,5])           # 리스트 안에 리스트로써 추가됨.\n",
        "l"
      ],
      "metadata": {
        "colab": {
          "base_uri": "https://localhost:8080/"
        },
        "id": "vnJ6zf-1dtd1",
        "outputId": "f3146e32-1c65-454c-c655-d54400b4896c"
      },
      "execution_count": 167,
      "outputs": [
        {
          "output_type": "execute_result",
          "data": {
            "text/plain": [
              "[10, 20, 30, 40, 10, 10, 10, [1, 2, 3, 4, 5]]"
            ]
          },
          "metadata": {},
          "execution_count": 167
        }
      ]
    },
    {
      "cell_type": "code",
      "source": [
        "l = [10, 20, 30, 40, 10, 10, 10]\n",
        "l.insert(2, 10000)              # 값이 넣어지면서 기존 값들은 오른쪽으로 밀린다.\n",
        "l"
      ],
      "metadata": {
        "colab": {
          "base_uri": "https://localhost:8080/"
        },
        "id": "htIdTFDDd5pK",
        "outputId": "66418b01-cd54-4ec5-df1b-9cfe336f95f6"
      },
      "execution_count": 168,
      "outputs": [
        {
          "output_type": "execute_result",
          "data": {
            "text/plain": [
              "[10, 20, 10000, 30, 40, 10, 10, 10]"
            ]
          },
          "metadata": {},
          "execution_count": 168
        }
      ]
    },
    {
      "cell_type": "code",
      "source": [
        "l = [10, 20, 10000, 30, 40, 10, 10, 10]\n",
        "l.index(10000)                  # 값의 위치를 알려준다."
      ],
      "metadata": {
        "colab": {
          "base_uri": "https://localhost:8080/"
        },
        "id": "AcCznNdIeP_8",
        "outputId": "9ba569a8-ee1b-4f73-8bb3-58ae547822a1"
      },
      "execution_count": 169,
      "outputs": [
        {
          "output_type": "execute_result",
          "data": {
            "text/plain": [
              "2"
            ]
          },
          "metadata": {},
          "execution_count": 169
        }
      ]
    },
    {
      "cell_type": "code",
      "source": [
        "l = [10, 20, 10000, 30, 40, 10, 10, 10]\n",
        "l.remove(10)            # remove는 첫번째로 만난 값만 지운다.\n",
        "l"
      ],
      "metadata": {
        "colab": {
          "base_uri": "https://localhost:8080/"
        },
        "id": "ifxwbkhAef_G",
        "outputId": "006be4f8-bd6e-4f65-cbb9-9d66c8b73b28"
      },
      "execution_count": 171,
      "outputs": [
        {
          "output_type": "execute_result",
          "data": {
            "text/plain": [
              "[20, 10000, 30, 40, 10, 10, 10]"
            ]
          },
          "metadata": {},
          "execution_count": 171
        }
      ]
    },
    {
      "cell_type": "code",
      "source": [
        "l = [10, 20, 10000, 30, 40, 10, 10, 10]\n",
        "for i in range(l.count(10)):\n",
        "    l.remove(10)\n",
        "l\n",
        "# 실무에서 사용하는 방법은 아님."
      ],
      "metadata": {
        "colab": {
          "base_uri": "https://localhost:8080/"
        },
        "id": "SeCSK2ObexNq",
        "outputId": "a9dd7234-0a71-436f-a0bc-5f78b057b156"
      },
      "execution_count": 172,
      "outputs": [
        {
          "output_type": "execute_result",
          "data": {
            "text/plain": [
              "[20, 10000, 30, 40]"
            ]
          },
          "metadata": {},
          "execution_count": 172
        }
      ]
    },
    {
      "cell_type": "code",
      "source": [
        "# 실무에서 많이 사용하는 코드입니다.\n",
        "# 어떤 값을 찾아내거나, 조건에 맞는 코드를 추출할 때 사용\n",
        "\n",
        "def 함수(x):\n",
        "    return x != 10\n",
        "\n",
        "l = [10, 20, 10000, 30, 40, 10, 10, 10]\n",
        "list(filter(함수, l))   # list를 하는 이유는 메모리를 줄이기 위해서이다.\n",
        "\n",
        "# 함수를 선언해서 하는 것도 실무에서 크게 사용하지 않는다."
      ],
      "metadata": {
        "colab": {
          "base_uri": "https://localhost:8080/"
        },
        "id": "Gtgh5mb3fA5g",
        "outputId": "a3f9239e-a975-4aeb-e0f5-a134a39c05d1"
      },
      "execution_count": 173,
      "outputs": [
        {
          "output_type": "execute_result",
          "data": {
            "text/plain": [
              "[20, 10000, 30, 40]"
            ]
          },
          "metadata": {},
          "execution_count": 173
        }
      ]
    },
    {
      "cell_type": "code",
      "source": [
        "# 이처럼 lambda를 활용하는 것이 직관적으로 보기도 쉽기에 실무에서 많이 사용한다.\n",
        "\n",
        "l = [10, 20, 10000, 30, 40, 10, 10, 10]\n",
        "list(filter(lambda x: x != 10, l))"
      ],
      "metadata": {
        "colab": {
          "base_uri": "https://localhost:8080/"
        },
        "id": "tpu6Q3R-fg8y",
        "outputId": "3b7332d9-e5ed-4e84-add9-f884099fb42d"
      },
      "execution_count": 174,
      "outputs": [
        {
          "output_type": "execute_result",
          "data": {
            "text/plain": [
              "[20, 10000, 30, 40]"
            ]
          },
          "metadata": {},
          "execution_count": 174
        }
      ]
    },
    {
      "cell_type": "code",
      "source": [
        "# range도 예전에는 바로 리스트로 뽑아 줬지만, 값이 크면 메모리를 많이 잡아먹기 때문에\n",
        "# 현재는 type이 ragne로 바뀌어서 뽑아주지 않는다.\n",
        "# filter도 마찬가지로 메모리를 많이 잡아먹기 때문에 리스트로 뽑아주지 않고\n",
        "# 아래와 같이 나온다. for을 통해 i로 값을 하나씩 뽑을 수 있고'\n",
        "# 아니면 list()를 통해 리스트화 시켜주어야 한다.\n",
        "\n",
        "filter(lambda x: x != 10, l)"
      ],
      "metadata": {
        "colab": {
          "base_uri": "https://localhost:8080/"
        },
        "id": "nBoARBLAf_gN",
        "outputId": "fe2bbe4f-5051-4f4a-a3cd-4f82f0c6eb13"
      },
      "execution_count": 177,
      "outputs": [
        {
          "output_type": "execute_result",
          "data": {
            "text/plain": [
              "<filter at 0x7f2d347adf60>"
            ]
          },
          "metadata": {},
          "execution_count": 177
        }
      ]
    },
    {
      "cell_type": "code",
      "source": [
        "l = [10, 20, 30, 10, 20, 30, 1, 2, 55, 11]\n",
        "l.reverse() # l을 직접 만진다. 역 정렬이 아니다! 역순일 뿐이다!!!\n",
        "l"
      ],
      "metadata": {
        "colab": {
          "base_uri": "https://localhost:8080/"
        },
        "id": "wfzwypEohDoD",
        "outputId": "3c1392f3-864c-4157-e041-dc0f00e5d22c"
      },
      "execution_count": 184,
      "outputs": [
        {
          "output_type": "execute_result",
          "data": {
            "text/plain": [
              "[11, 55, 2, 1, 30, 20, 10, 30, 20, 10]"
            ]
          },
          "metadata": {},
          "execution_count": 184
        }
      ]
    },
    {
      "cell_type": "code",
      "source": [
        "l = [10, 20, 30, 10, 20, 30, 1, 2, 55, 11]\n",
        "reversed(l)     # l을 직접 만지지 않는다. 역 정렬이 아니다! 역순일 뿐이다!!!\n",
        "l, list(reversed(l))    # print하면 이처럼 역순을 주기는 하지만, \n",
        "                        # 기본 자체는 list로 바로 주지 않기 때문에 print를 해야 한다."
      ],
      "metadata": {
        "colab": {
          "base_uri": "https://localhost:8080/"
        },
        "id": "PCaiMztrhMFc",
        "outputId": "64aac081-8a80-467f-c41a-2b87984bd6bb"
      },
      "execution_count": 186,
      "outputs": [
        {
          "output_type": "execute_result",
          "data": {
            "text/plain": [
              "([10, 20, 30, 10, 20, 30, 1, 2, 55, 11],\n",
              " [11, 55, 2, 1, 30, 20, 10, 30, 20, 10])"
            ]
          },
          "metadata": {},
          "execution_count": 186
        }
      ]
    },
    {
      "cell_type": "code",
      "source": [
        "l = [10, 20, 30, 10, 20, 30, 1, 2, 55, 11]\n",
        "l.sort()    # 작은 값부터 정렬\n",
        "l"
      ],
      "metadata": {
        "colab": {
          "base_uri": "https://localhost:8080/"
        },
        "id": "1ponCpw4huxB",
        "outputId": "c5f0ba4b-5a1a-4dd7-cd1a-318090fcc50a"
      },
      "execution_count": 187,
      "outputs": [
        {
          "output_type": "execute_result",
          "data": {
            "text/plain": [
              "[1, 2, 10, 10, 11, 20, 20, 30, 30, 55]"
            ]
          },
          "metadata": {},
          "execution_count": 187
        }
      ]
    },
    {
      "cell_type": "code",
      "source": [
        "l = [10, 20, 30, 10, 20, 30, 1, 2, 55, 11]\n",
        "l.sort()        # 작은 값부터 정렬\n",
        "l.reverse()     # sort와 reverse를 함께 사용해야 역정렬이 된다!\n",
        "l"
      ],
      "metadata": {
        "colab": {
          "base_uri": "https://localhost:8080/"
        },
        "id": "dS_9y5k6hZt9",
        "outputId": "f27a63e0-cec6-4114-ae47-262bccdfc752"
      },
      "execution_count": 188,
      "outputs": [
        {
          "output_type": "execute_result",
          "data": {
            "text/plain": [
              "[55, 30, 30, 20, 20, 11, 10, 10, 2, 1]"
            ]
          },
          "metadata": {},
          "execution_count": 188
        }
      ]
    },
    {
      "cell_type": "code",
      "source": [
        "l = [10, 20, 30, 10, 20, 30, 1, 2, 55, 11]\n",
        "print(list(sorted(l))) # 이렇게 해도 역정렬이 된다. 다만, print를 해야 한다.\n",
        "print(l)                #원본을 건드리지 않아 메서드보다 많이 사용한다."
      ],
      "metadata": {
        "colab": {
          "base_uri": "https://localhost:8080/"
        },
        "id": "tuTYn_-ph_oi",
        "outputId": "2fffccb1-24d5-4f8b-f727-e34a15d9bd14"
      },
      "execution_count": 192,
      "outputs": [
        {
          "output_type": "stream",
          "name": "stdout",
          "text": [
            "[1, 2, 10, 10, 11, 20, 20, 30, 30, 55]\n",
            "[10, 20, 30, 10, 20, 30, 1, 2, 55, 11]\n"
          ]
        }
      ]
    },
    {
      "cell_type": "code",
      "source": [
        "l = [10, 20, 30, 10, 20, 30, 1, 2, 55, 11]\n",
        "print(list(sorted(l, reverse = True)))  # 내림차순"
      ],
      "metadata": {
        "colab": {
          "base_uri": "https://localhost:8080/"
        },
        "id": "_c-5dDPziNnM",
        "outputId": "a66f40de-4a52-46ab-8776-999fb4f6d2d0"
      },
      "execution_count": 190,
      "outputs": [
        {
          "output_type": "stream",
          "name": "stdout",
          "text": [
            "[55, 30, 30, 20, 20, 11, 10, 10, 2, 1]\n"
          ]
        }
      ]
    },
    {
      "cell_type": "code",
      "source": [
        "l = [[1,10, 'leehojun'],\n",
        "     [20, 30, 'hojun'],\n",
        "     [10, 20, 'wemiv'],\n",
        "     [1, 2, 'likelion'],\n",
        "     [55, 11, 'sun']]\n",
        "\n",
        "# 1. 글자 수 대로 정령해주세요.\n",
        "def 함수(x):\n",
        "    return len(x[2])\n",
        "\n",
        "print(list(sorted(l, key = 함수)))\n",
        "print(list(sorted(l, key = lambda x:len(x[2]))))\n",
        "\n",
        "# 2. 맨 앞에 위치한 숫자대로 정렬해주세요.\n",
        "def 함수2(x):\n",
        "    return x[0]\n",
        "print(list(sorted(l)))\n",
        "print(list(sorted(l, key = 함수2)))\n",
        "print(list(sorted(l, key = lambda x:x[0])))\n",
        "\n",
        "# 3. 중앙에 위취한 값대로 정렬해주세요.\n",
        "def 함수3(x):\n",
        "    return x[1]\n",
        "print(list(sorted(l, key = 함수3)))\n",
        "print(list(sorted(l, key = lambda x:x[1])))"
      ],
      "metadata": {
        "colab": {
          "base_uri": "https://localhost:8080/"
        },
        "id": "nkjYLY8xinRI",
        "outputId": "c426aee1-c999-4fbf-b4e3-9a38d90ad3a9"
      },
      "execution_count": 199,
      "outputs": [
        {
          "output_type": "stream",
          "name": "stdout",
          "text": [
            "[[55, 11, 'sun'], [20, 30, 'hojun'], [10, 20, 'wemiv'], [1, 10, 'leehojun'], [1, 2, 'likelion']]\n",
            "[[55, 11, 'sun'], [20, 30, 'hojun'], [10, 20, 'wemiv'], [1, 10, 'leehojun'], [1, 2, 'likelion']]\n",
            "[[1, 2, 'likelion'], [1, 10, 'leehojun'], [10, 20, 'wemiv'], [20, 30, 'hojun'], [55, 11, 'sun']]\n",
            "[[1, 10, 'leehojun'], [1, 2, 'likelion'], [10, 20, 'wemiv'], [20, 30, 'hojun'], [55, 11, 'sun']]\n",
            "[[1, 10, 'leehojun'], [1, 2, 'likelion'], [10, 20, 'wemiv'], [20, 30, 'hojun'], [55, 11, 'sun']]\n",
            "[[1, 2, 'likelion'], [1, 10, 'leehojun'], [55, 11, 'sun'], [10, 20, 'wemiv'], [20, 30, 'hojun']]\n",
            "[[1, 2, 'likelion'], [1, 10, 'leehojun'], [55, 11, 'sun'], [10, 20, 'wemiv'], [20, 30, 'hojun']]\n"
          ]
        }
      ]
    },
    {
      "cell_type": "code",
      "source": [
        "l = [[1,10, 32],\n",
        "     [20, 30, 11],\n",
        "     [10, 20, 22],\n",
        "     [1, 2, 13],\n",
        "     [55, 11, 44]]\n",
        "\n",
        "# 4. 3개의 전체 합대로 출력해주세요.\n",
        "def 함수4(x):\n",
        "    return sum(x)\n",
        "\n",
        "print(list(sorted(l, key = 함수4)))\n",
        "print(list(sorted(l, key = lambda x:sum(x))))\n",
        "print(list(sorted(l, key = sum)))"
      ],
      "metadata": {
        "colab": {
          "base_uri": "https://localhost:8080/"
        },
        "id": "dGgV3SOUkcEl",
        "outputId": "8e31af32-1202-4b45-975e-8b6a5ae8432b"
      },
      "execution_count": 202,
      "outputs": [
        {
          "output_type": "stream",
          "name": "stdout",
          "text": [
            "[[1, 2, 13], [1, 10, 32], [10, 20, 22], [20, 30, 11], [55, 11, 44]]\n",
            "[[1, 2, 13], [1, 10, 32], [10, 20, 22], [20, 30, 11], [55, 11, 44]]\n",
            "[[1, 2, 13], [1, 10, 32], [10, 20, 22], [20, 30, 11], [55, 11, 44]]\n"
          ]
        }
      ]
    }
  ]
}